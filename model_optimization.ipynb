{
 "cells": [
  {
   "cell_type": "code",
   "execution_count": 12,
   "metadata": {},
   "outputs": [],
   "source": [
    "#imports\n",
    "import pandas as pd\n",
    "import time\n",
    "import numpy as np\n",
    "import sklearn\n",
    "from sklearn.model_selection import train_test_split\n",
    "from models import naive_bayes, logistic, random_forest, k_cross_val\n",
    "from scipy.sparse import csr_matrix, hstack\n",
    "\n",
    "import itertools\n",
    "import random\n",
    "\n",
    "from sklearn.linear_model import LogisticRegression\n",
    "from sklearn.model_selection import KFold\n",
    "from sklearn.naive_bayes import MultinomialNB\n",
    "from sklearn.ensemble import RandomForestClassifier\n",
    "from sklearn.feature_extraction.text import CountVectorizer\n",
    "from sklearn.feature_extraction.text import TfidfVectorizer\n",
    "from sklearn.naive_bayes import MultinomialNB\n",
    "\n",
    "import matplotlib.pyplot as plt"
   ]
  },
  {
   "cell_type": "code",
   "execution_count": 3,
   "metadata": {},
   "outputs": [],
   "source": [
    "# import the data\n",
    "data = pd.read_csv('data/clean_data.csv',index_col = 0)"
   ]
  },
  {
   "cell_type": "markdown",
   "metadata": {},
   "source": [
    "Based on the results from the initial model fitting, it seems as though the numerical features we collected using Tweepy were not particularly useful. This could be because the features themselves are not informative or because the imputation techniques we used for the missing tweets were not good. If we have time, we can go back and try more advanced imputation techniques. For now, let's ignore the imputed numerical features except for date_time. Date_time should be reliable because tweets are organized chronologically by tweet id and so the missing date_times we imputed should be fairly reliable. Let's also keep numerical features that we collected directly from the text like exclamation_mark_count."
   ]
  },
  {
   "cell_type": "code",
   "execution_count": 4,
   "metadata": {},
   "outputs": [
    {
     "data": {
      "text/html": [
       "<div>\n",
       "<style scoped>\n",
       "    .dataframe tbody tr th:only-of-type {\n",
       "        vertical-align: middle;\n",
       "    }\n",
       "\n",
       "    .dataframe tbody tr th {\n",
       "        vertical-align: top;\n",
       "    }\n",
       "\n",
       "    .dataframe thead th {\n",
       "        text-align: right;\n",
       "    }\n",
       "</style>\n",
       "<table border=\"1\" class=\"dataframe\">\n",
       "  <thead>\n",
       "    <tr style=\"text-align: right;\">\n",
       "      <th></th>\n",
       "      <th>clean text</th>\n",
       "      <th>tweetid</th>\n",
       "      <th>is_retweet</th>\n",
       "      <th>is_quoted</th>\n",
       "      <th>date_time</th>\n",
       "      <th>retweets</th>\n",
       "      <th>favorites</th>\n",
       "      <th>followers</th>\n",
       "      <th>verified</th>\n",
       "      <th>location</th>\n",
       "      <th>exclamation_mark_count</th>\n",
       "      <th>question_mark_count</th>\n",
       "      <th>imputed</th>\n",
       "      <th>sentiment</th>\n",
       "      <th>month</th>\n",
       "      <th>hour</th>\n",
       "      <th>dayofweek</th>\n",
       "    </tr>\n",
       "  </thead>\n",
       "  <tbody>\n",
       "    <tr>\n",
       "      <th>2</th>\n",
       "      <td>aaaaaand delet glob warm rain tweet cas miss s...</td>\n",
       "      <td>794050846807982080</td>\n",
       "      <td>1</td>\n",
       "      <td>0</td>\n",
       "      <td>2016-11-03 05:37:29</td>\n",
       "      <td>47</td>\n",
       "      <td>79</td>\n",
       "      <td>20106</td>\n",
       "      <td>1</td>\n",
       "      <td>NYC</td>\n",
       "      <td>0</td>\n",
       "      <td>0</td>\n",
       "      <td>False</td>\n",
       "      <td>-1</td>\n",
       "      <td>11</td>\n",
       "      <td>5</td>\n",
       "      <td>3</td>\n",
       "    </tr>\n",
       "  </tbody>\n",
       "</table>\n",
       "</div>"
      ],
      "text/plain": [
       "                                          clean text             tweetid  \\\n",
       "2  aaaaaand delet glob warm rain tweet cas miss s...  794050846807982080   \n",
       "\n",
       "   is_retweet  is_quoted           date_time  retweets  favorites  followers  \\\n",
       "2           1          0 2016-11-03 05:37:29        47         79      20106   \n",
       "\n",
       "   verified location  exclamation_mark_count  question_mark_count  imputed  \\\n",
       "2         1      NYC                       0                    0    False   \n",
       "\n",
       "   sentiment  month  hour  dayofweek  \n",
       "2         -1     11     5          3  "
      ]
     },
     "execution_count": 4,
     "metadata": {},
     "output_type": "execute_result"
    }
   ],
   "source": [
    "# adding date time features\n",
    "data['date_time'] = pd.to_datetime(data['date_time'])\n",
    "data['month'] = data['date_time'].dt.month\n",
    "data['hour'] = data['date_time'].dt.hour\n",
    "data['dayofweek'] = data['date_time'].dt.dayofweek\n",
    "data.iloc[[0]]"
   ]
  },
  {
   "cell_type": "code",
   "execution_count": 19,
   "metadata": {},
   "outputs": [
    {
     "name": "stdout",
     "output_type": "stream",
     "text": [
      "Initial class distribution\n",
      "class 1:  0.6481264232972189\n",
      "class 0:  0.22859015940928853\n",
      "class -1:  0.12328341729349251\n",
      "Upsampled class distribution\n",
      "class 1:  0.3333333333333333\n",
      "class 0:  0.3333333333333333\n",
      "class -1:  0.3333333333333333\n"
     ]
    }
   ],
   "source": [
    "# upsampling seemed to improve results so let's continue doing this\n",
    "\n",
    "n = len(data)\n",
    "print('Initial class distribution')\n",
    "print('class 1: ', len(data[data['sentiment']==1])/n)\n",
    "print('class 0: ', len(data[data['sentiment']==0])/n)\n",
    "print('class -1: ', len(data[data['sentiment']==-1])/n)\n",
    "\n",
    "np.random.seed(123)\n",
    "\n",
    "diffneg = (len(data[data['sentiment']==1]) - \n",
    "        len(data[data['sentiment']==-1])) # want to creat 33-33-33 balance\n",
    "diffneu = (len(data[data['sentiment']==1]) - \n",
    "        len(data[data['sentiment']==0])) # want to creat 33-33-33 balance\n",
    "\n",
    "neg_data = data[data['sentiment']==-1] # sample to choose from\n",
    "neu_data = data[data['sentiment']==0] # sample to choose from\n",
    "\n",
    "upsample_index_neg = np.random.choice(neg_data.index,size=diffneg) # sample with repetition\n",
    "upsample_index_neu = np.random.choice(neu_data.index,size=diffneu) # sample with repetition\n",
    "\n",
    "data_ups = data.append(neg_data.loc[upsample_index_neg]).append(neu_data.loc[upsample_index_neu]).sample(frac=1)\n",
    "\n",
    "n = len(data_ups)\n",
    "print('Upsampled class distribution')\n",
    "print('class 1: ', len(data_ups[data_ups['sentiment']==1])/n)\n",
    "print('class 0: ', len(data_ups[data_ups['sentiment']==0])/n)\n",
    "print('class -1: ', len(data_ups[data_ups['sentiment']==-1])/n)"
   ]
  },
  {
   "cell_type": "markdown",
   "metadata": {},
   "source": [
    "## Random Forest"
   ]
  },
  {
   "cell_type": "markdown",
   "metadata": {},
   "source": [
    "### Part 1: Feature Selection"
   ]
  },
  {
   "cell_type": "code",
   "execution_count": 7,
   "metadata": {},
   "outputs": [],
   "source": [
    "#split data into testing and training sets \n",
    "X_train, X_test, y_train, y_test = train_test_split(data_ups.drop(labels = \"sentiment\", axis = 1), \n",
    "                                                    data_ups[\"sentiment\"], test_size=0.2, \n",
    "                                                    random_state=0)"
   ]
  },
  {
   "cell_type": "code",
   "execution_count": 8,
   "metadata": {},
   "outputs": [],
   "source": [
    "# select just the numerical data\n",
    "numerical_feature_names = ['exclamation_mark_count', 'question_mark_count','month','hour','dayofweek']\n",
    "X_train_numerical = X_train.loc[:,numerical_feature_names]"
   ]
  },
  {
   "cell_type": "code",
   "execution_count": 11,
   "metadata": {
    "scrolled": true
   },
   "outputs": [
    {
     "name": "stdout",
     "output_type": "stream",
     "text": [
      "<class 'sklearn.feature_extraction.text.CountVectorizer'>\n",
      "n-gram:  (1, 1)\n",
      "Accuracy:  0.8962756265671498\n",
      "Precision:  0.8971316026935282\n",
      "Recall:  0.8963747930448666\n",
      "F score:  0.8952602867572047\n",
      "n-gram:  (1, 2)\n",
      "Accuracy:  0.8921496923045584\n",
      "Precision:  0.89496521274199\n",
      "Recall:  0.8922580278359604\n",
      "F score:  0.8911518410132888\n",
      "n-gram:  (1, 3)\n",
      "Accuracy:  0.8909296981084432\n",
      "Precision:  0.8945634687950432\n",
      "Recall:  0.891035682712479\n",
      "F score:  0.8899493985250444\n",
      "n-gram:  (2, 2)\n",
      "Accuracy:  0.8900424038828756\n",
      "Precision:  0.8918710181642598\n",
      "Recall:  0.8901701293288931\n",
      "F score:  0.8897688771811273\n",
      "n-gram:  (2, 3)\n",
      "Accuracy:  0.8864266983029886\n",
      "Precision:  0.8883014053458954\n",
      "Recall:  0.8865457950462232\n",
      "F score:  0.8858787897968792\n",
      "n-gram:  (3, 3)\n",
      "Accuracy:  0.8554601561538252\n",
      "Precision:  0.8624233906219041\n",
      "Recall:  0.8556111031621623\n",
      "F score:  0.8528549248367756\n",
      "<class 'sklearn.feature_extraction.text.TfidfVectorizer'>\n",
      "n-gram:  (1, 1)\n",
      "Accuracy:  0.9022648853457224\n",
      "Precision:  0.9021834624408583\n",
      "Recall:  0.9023819409498209\n",
      "F score:  0.901568657069253\n",
      "n-gram:  (1, 2)\n",
      "Accuracy:  0.8868259761532957\n",
      "Precision:  0.8907798232489604\n",
      "Recall:  0.8869554893074284\n",
      "F score:  0.885568158192803\n",
      "n-gram:  (1, 3)\n",
      "Accuracy:  0.8625806829040954\n",
      "Precision:  0.8756078211674257\n",
      "Recall:  0.8627440002345343\n",
      "F score:  0.8594468980462784\n",
      "n-gram:  (2, 2)\n",
      "Accuracy:  0.8415962641403268\n",
      "Precision:  0.8612869476301219\n",
      "Recall:  0.8417924553797971\n",
      "F score:  0.8370130968946821\n",
      "n-gram:  (2, 3)\n",
      "Accuracy:  0.8167077192946891\n",
      "Precision:  0.8487122153493386\n",
      "Recall:  0.8169246595241126\n",
      "F score:  0.8072335881831705\n",
      "n-gram:  (3, 3)\n",
      "Accuracy:  0.8458552754390087\n",
      "Precision:  0.8538941374681341\n",
      "Recall:  0.8460664414031621\n",
      "F score:  0.8420764979400426\n"
     ]
    }
   ],
   "source": [
    "# compare 5 fold cross validation error metrics for count and tfidf vectorizer with\n",
    "# 1, 2, 3-grams\n",
    "\n",
    "for skvectorizeri in [CountVectorizer,TfidfVectorizer]:\n",
    "    print(skvectorizeri)\n",
    "    for ngrami in [(1,1),(1,2),(1,3),(2,2),(2,3),(3,3)]:\n",
    "        rf = random_forest(X_train[\"clean text\"].values, y_train.values, X_train_numerical.values,\n",
    "                           ngram=ngrami,skvectorizer=skvectorizeri)\n",
    "        print('n-gram: ',ngrami)\n",
    "        print('Accuracy: ',rf[0])\n",
    "        print('Precision: ',rf[1])\n",
    "        print('Recall: ',rf[2])\n",
    "        print('F score: ',rf[3])"
   ]
  },
  {
   "cell_type": "markdown",
   "metadata": {},
   "source": [
    "TFIDF vectorizer with 1-grams had the best performance."
   ]
  },
  {
   "cell_type": "markdown",
   "metadata": {},
   "source": [
    "Random forests perform implicit feature selection by splitting on the most important nodes, but it can still be useful to look at which features it deemed the most important if we want to speed up the model (especially if performing hyperparameter optimization) and potentially use as feature selection for other models. Two things to note:\n",
    "- random forests are biased towards features with high cardinality (more categories)\n",
    "- if there are correlated features, one of them will cary most of the importance because once a node splits on a feature the other correlated features will not offer much new information"
   ]
  },
  {
   "cell_type": "code",
   "execution_count": 14,
   "metadata": {},
   "outputs": [
    {
     "name": "stdout",
     "output_type": "stream",
     "text": [
      "time: 402.688111782074\n",
      "(0.9011557829394325, 0.9014004984030946, 0.9012790371225587, 0.9004411015154868)\n"
     ]
    }
   ],
   "source": [
    "# create feature matrix\n",
    "vectorizer = TfidfVectorizer(ngram_range=(1,1))\n",
    "features = vectorizer.fit_transform(X_train[\"clean text\"].values)\n",
    "features = hstack([features, csr_matrix(X_train_numerical.values)])\n",
    "\n",
    "# 5 fold cross validation on training data\n",
    "start = time.time()\n",
    "rf_classifier = RandomForestClassifier()\n",
    "errors = k_cross_val(rf_classifier,features.tocsr(),y_train.values,k=5)\n",
    "stop = time.time()\n",
    "\n",
    "print('time:',stop-start)\n",
    "print(errors)"
   ]
  },
  {
   "cell_type": "code",
   "execution_count": 20,
   "metadata": {
    "scrolled": true
   },
   "outputs": [
    {
     "name": "stdout",
     "output_type": "stream",
     "text": [
      "feature: chang  |  0.02229\n",
      "feature: clim  |  0.02086\n",
      "feature: hour  |  0.01712\n",
      "feature: month  |  0.01483\n",
      "feature: warm  |  0.01455\n",
      "feature: glob  |  0.01443\n",
      "feature: dayofweek  |  0.01363\n",
      "feature: deny  |  0.0077\n",
      "feature: lib  |  0.00732\n",
      "feature: sci  |  0.00615\n",
      "feature: scam  |  0.00599\n",
      "feature: obam  |  0.00532\n",
      "feature: real  |  0.00496\n",
      "feature: trump  |  0.00488\n",
      "feature: exclamation_mark_count  |  0.0045\n",
      "feature: fight  |  0.00397\n",
      "feature: believ  |  0.00394\n",
      "feature: mad  |  0.00383\n",
      "feature: man  |  0.00376\n",
      "feature: alarm  |  0.00351\n",
      "feature: question_mark_count  |  0.00348\n",
      "feature: fak  |  0.00345\n",
      "feature: hoax  |  0.00345\n",
      "feature: left  |  0.00339\n",
      "feature: say  |  0.00326\n"
     ]
    }
   ],
   "source": [
    "# https://towardsdatascience.com/improving-random-forest-in-python-part-1-893916666cd\n",
    "rf_classifier = RandomForestClassifier()\n",
    "rf_classifier.fit(features, y_train) # fit model to all training data\n",
    "\n",
    "feature_names = vectorizer.get_feature_names() + numerical_feature_names\n",
    "importances = list(rf_classifier.feature_importances_) # higher value = more important\n",
    "feature_importances = [(feature, round(importance, 5)) for feature, importance in zip(feature_names, importances)]\n",
    "feature_importances = sorted(feature_importances, key = lambda x: x[1], reverse = True)\n",
    "for i in range(25): # print top 25 most important features\n",
    "    print('feature:', feature_importances[i][0],' | ',feature_importances[i][1])"
   ]
  },
  {
   "cell_type": "markdown",
   "metadata": {},
   "source": [
    "A lot of these features make sense! There are many words related to climate change (chang, clim, warm, glob), belief (deny, scam, real, believ, fak, hoax), and politcs (lib, obam, trump). It's also intersting to note that all our numerical features were pretty important."
   ]
  },
  {
   "cell_type": "code",
   "execution_count": 16,
   "metadata": {},
   "outputs": [
    {
     "data": {
      "text/plain": [
       "<matplotlib.lines.Line2D at 0x1a1afed668>"
      ]
     },
     "execution_count": 16,
     "metadata": {},
     "output_type": "execute_result"
    },
    {
     "data": {
      "image/png": "[encoded data removed]",
      "text/plain": [
       "<Figure size 432x288 with 1 Axes>"
      ]
     },
     "metadata": {
      "needs_background": "light"
     },
     "output_type": "display_data"
    }
   ],
   "source": [
    "plt.plot(np.arange(len(feature_importances)),np.cumsum(np.array([tup[1] for tup in feature_importances])))\n",
    "plt.axhline(.95)"
   ]
  },
  {
   "cell_type": "code",
   "execution_count": 17,
   "metadata": {},
   "outputs": [
    {
     "name": "stdout",
     "output_type": "stream",
     "text": [
      "The number of features that capture 95% of the importance:  3933\n",
      "time: 194.70488381385803\n",
      "(0.8944566725436985, 0.8950586105274384, 0.8946028264713585, 0.8934377683074354)\n"
     ]
    }
   ],
   "source": [
    "n95 = len(feature_importances) - sum(np.cumsum(np.array([tup[1] for tup in feature_importances]))>.95)\n",
    "print('The number of features that capture 95% of the importance: ',n95)\n",
    "indices95 = np.argsort(-np.array(importances))[:n95]\n",
    "\n",
    "# train model on all training data\n",
    "features95 = features.tocsr()[:,indices95]\n",
    "\n",
    "# 5 fold cross validation on training data\n",
    "start = time.time()\n",
    "rf_classifier = RandomForestClassifier()\n",
    "errors = k_cross_val(rf_classifier,features95,y_train.values,k=5)\n",
    "stop = time.time()\n",
    "\n",
    "print('time:',stop-start)\n",
    "print(errors)"
   ]
  },
  {
   "cell_type": "markdown",
   "metadata": {},
   "source": [
    "### Hyperparameter Optimization"
   ]
  },
  {
   "cell_type": "code",
   "execution_count": 1,
   "metadata": {},
   "outputs": [
    {
     "data": {
      "text/plain": [
       "'n_estimators_array = [100, 200, 400, 600, 800, 1000]\\nmax_depth_array = [200,400,600,800, None]\\nmin_samples_split_array = [2,5,10]\\nmin_samples_leaf_array = [1,2,4]\\n\\nparam = [n_estimators_array,max_depth_array,min_samples_split_array,min_samples_leaf_array]\\nparam_grid = list(itertools.product(*param))  \\nfor p in random.sample(param_grid,20):\\n    rf_classifier = RandomForestClassifier(n_estimators=p[0], max_depth=p[1], min_samples_split=p[2], min_samples_leaf=p[3])\\n    errors = k_cross_val(rf_classifier,features95,y_train.values,k=5)\\n    print(p,\" | \",errors)'"
      ]
     },
     "execution_count": 1,
     "metadata": {},
     "output_type": "execute_result"
    }
   ],
   "source": [
    "# n_estimators integer, optional (default=100)\n",
    "# max_depth integer or None, optional (default=None)\n",
    "# min_samples_split int, float, optional (default=2)\n",
    "# min_samples_leaf int, float, optional (default=1)\n",
    "\n",
    "n_estimators_array = [100, 200, 400, 600, 800, 1000]\n",
    "max_depth_array = [200,400,600,800, None]\n",
    "min_samples_split_array = [2,5,10]\n",
    "min_samples_leaf_array = [1,2,4]\n",
    "\n",
    "param = [n_estimators_array,max_depth_array,min_samples_split_array,min_samples_leaf_array]\n",
    "param_grid = list(itertools.product(*param))  \n",
    "for p in random.sample(param_grid,20):\n",
    "    rf_classifier = RandomForestClassifier(n_estimators=p[0], max_depth=p[1], min_samples_split=p[2], min_samples_leaf=p[3])\n",
    "    errors = k_cross_val(rf_classifier,features95,y_train.values,k=5)\n",
    "    print(p,\" | \",errors)"
   ]
  },
  {
   "cell_type": "code",
   "execution_count": null,
   "metadata": {},
   "outputs": [],
   "source": [
    "# this takes too long locally\n",
    "# will likely use the computing resources of something like AWS to run this"
   ]
  }
 ],
 "metadata": {
  "kernelspec": {
   "display_name": "Python 3",
   "language": "python",
   "name": "python3"
  },
  "language_info": {
   "codemirror_mode": {
    "name": "ipython",
    "version": 3
   },
   "file_extension": ".py",
   "mimetype": "text/x-python",
   "name": "python",
   "nbconvert_exporter": "python",
   "pygments_lexer": "ipython3",
   "version": "3.7.3"
  }
 },
 "nbformat": 4,
 "nbformat_minor": 4
}
